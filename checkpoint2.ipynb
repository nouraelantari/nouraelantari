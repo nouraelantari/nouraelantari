{
 "cells": [
  {
   "cell_type": "markdown",
   "id": "ddc90fc0",
   "metadata": {},
   "source": [
    "# checkpoints2"
   ]
  },
  {
   "cell_type": "markdown",
   "id": "b9db1acc",
   "metadata": {},
   "source": [
    "question 1"
   ]
  },
  {
   "cell_type": "code",
   "execution_count": null,
   "id": "b5cc5de5",
   "metadata": {},
   "outputs": [],
   "source": [
    "firstname =input (\"entrer votre prenom :\") \n",
    "lastname =input (\"entrer votre nom :\")\n",
    "\n",
    "print(lastname,\"\",firstname)"
   ]
  },
  {
   "cell_type": "markdown",
   "id": "36a5dacc",
   "metadata": {},
   "source": [
    "question 2"
   ]
  },
  {
   "cell_type": "code",
   "execution_count": 1,
   "id": "e2260ed9",
   "metadata": {},
   "outputs": [
    {
     "name": "stdout",
     "output_type": "stream",
     "text": [
      "entrer le chiffre:5\n",
      "615 = 5 + 55 + 555\n"
     ]
    }
   ],
   "source": [
    "n= input(\"entrer le chiffre:\")\n",
    "nn=n*2\n",
    "nnn=n*3\n",
    "\n",
    "s=int(n)+int(nn)+int(nnn)\n",
    "\n",
    "print (s,\"=\",int(n),\"+\",int(nn),\"+\",int(nnn))"
   ]
  },
  {
   "cell_type": "markdown",
   "id": "78c35730",
   "metadata": {},
   "source": [
    "question3"
   ]
  },
  {
   "cell_type": "code",
   "execution_count": 2,
   "id": "4dbe79b8",
   "metadata": {
    "scrolled": true
   },
   "outputs": [
    {
     "name": "stdout",
     "output_type": "stream",
     "text": [
      "entrer le chiffre:2\n",
      "x is even\n"
     ]
    }
   ],
   "source": [
    "x=int(input(\"entrer le chiffre:\"))\n",
    "if x%2==0:\n",
    "    print ('x is even')\n",
    "else:\n",
    "    print ('x is odd')"
   ]
  },
  {
   "cell_type": "markdown",
   "id": "70c0c516",
   "metadata": {},
   "source": [
    "question4"
   ]
  },
  {
   "cell_type": "code",
   "execution_count": 5,
   "id": "676c54ae",
   "metadata": {},
   "outputs": [
    {
     "name": "stdout",
     "output_type": "stream",
     "text": [
      "2002, 2009, 2016, 2023, 2037, 2044, 2051, 2058, 2072, 2079, 2086, 2093, 2107, 2114, 2121, 2128, 2142, 2149, 2156, 2163, 2177, 2184, 2191, 2198, 2212, 2219, 2226, 2233, 2247, 2254, 2261, 2268, 2282, 2289, 2296, 2303, 2317, 2324, 2331, 2338, 2352, 2359, 2366, 2373, 2387, 2394, 2401, 2408, 2422, 2429, 2436, 2443, 2457, 2464, 2471, 2478, 2492, 2499, 2506, 2513, 2527, 2534, 2541, 2548, 2562, 2569, 2576, 2583, 2597, 2604, 2611, 2618, 2632, 2639, 2646, 2653, 2667, 2674, 2681, 2688, 2702, 2709, 2716, 2723, 2737, 2744, 2751, 2758, 2772, 2779, 2786, 2793, 2807, 2814, 2821, 2828, 2842, 2849, 2856, 2863, 2877, 2884, 2891, 2898, 2912, 2919, 2926, 2933, 2947, 2954, 2961, 2968, 2982, 2989, 2996, 3003, 3017, 3024, 3031, 3038, 3052, 3059, 3066, 3073, 3087, 3094, 3101, 3108, 3122, 3129, 3136, 3143, 3157, 3164, 3171, 3178, 3192, 3199, "
     ]
    }
   ],
   "source": [
    "for i in range(2000,3200):\n",
    "    if i%7==0 and i%5!=0:\n",
    "        print (i,end=\", \")"
   ]
  },
  {
   "cell_type": "code",
   "execution_count": 13,
   "id": "cc696fd7",
   "metadata": {},
   "outputs": [
    {
     "name": "stdout",
     "output_type": "stream",
     "text": [
      "entrer un nombre:4\n",
      "24\n"
     ]
    }
   ],
   "source": [
    "n=int(input(\"entrer un nombre:\"))\n",
    "if n==0 or n==1:\n",
    "    print (1)\n",
    "else :\n",
    "    f=1\n",
    "    for i in range (1,n+1):\n",
    "        f=f*i\n",
    "    print (f)"
   ]
  },
  {
   "cell_type": "code",
   "execution_count": 14,
   "id": "6a8b7f91",
   "metadata": {},
   "outputs": [
    {
     "name": "stdout",
     "output_type": "stream",
     "text": [
      "entrer votre prenom:Noura\n",
      "Nua\n"
     ]
    }
   ],
   "source": [
    "ch=input(\"entrer votre prenom:\")\n",
    "r=\"\"\n",
    "for i in range (len(ch)):\n",
    "    if i%2==0:\n",
    "        r=r+ch[i]\n",
    "print (r)"
   ]
  },
  {
   "cell_type": "code",
   "execution_count": 17,
   "id": "935dc08b",
   "metadata": {},
   "outputs": [
    {
     "name": "stdout",
     "output_type": "stream",
     "text": [
      "entrer le prix :200\n",
      "le prix apres la reduction: 140.0\n"
     ]
    }
   ],
   "source": [
    "p=int(input(\"entrer le prix :\") )\n",
    "if p>=500:\n",
    "    pf=pf*(1-0.5)\n",
    "    print (\"le prix apres la reduction:\",pf)\n",
    "elif p>=200 and p<500:\n",
    "    pf=p*(1-0.3)\n",
    "    print (\"le prix apres la reduction:\",pf)\n",
    "else:\n",
    "    pf=p*(1-0.1)\n",
    "    print(\"le prix apres la reduction:\",pf)"
   ]
  },
  {
   "cell_type": "code",
   "execution_count": null,
   "id": "c9dbfceb",
   "metadata": {},
   "outputs": [],
   "source": []
  },
  {
   "cell_type": "code",
   "execution_count": null,
   "id": "b5c0af39",
   "metadata": {},
   "outputs": [],
   "source": []
  }
 ],
 "metadata": {
  "kernelspec": {
   "display_name": "Python 3 (ipykernel)",
   "language": "python",
   "name": "python3"
  },
  "language_info": {
   "codemirror_mode": {
    "name": "ipython",
    "version": 3
   },
   "file_extension": ".py",
   "mimetype": "text/x-python",
   "name": "python",
   "nbconvert_exporter": "python",
   "pygments_lexer": "ipython3",
   "version": "3.9.7"
  }
 },
 "nbformat": 4,
 "nbformat_minor": 5
}
